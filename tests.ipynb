{
 "cells": [
  {
   "cell_type": "code",
   "execution_count": null,
   "metadata": {},
   "outputs": [],
   "source": [
    "import bluetooth\n",
    "import matplotlib.pyplot as plt\n",
    "\n",
    "%reload_ext autoreload\n",
    "%autoreload 0\n",
    "from testsHelper import initBluetoothSocket, getSocketData, AnimationWorker"
   ]
  },
  {
   "cell_type": "markdown",
   "metadata": {},
   "source": [
    "# Bluetooth Test"
   ]
  },
  {
   "cell_type": "code",
   "execution_count": null,
   "metadata": {},
   "outputs": [],
   "source": [
    "import numpy as np\n",
    "dataStr = \"@\\n@1,3,4,5,6,2@\"\n",
    "data = dataStr.splitlines()\n",
    "data = filter(lambda row: row[0] == \"@\" and row[-1] == \"@\", data)\n",
    "data = map(lambda x: list(x.strip(\"@\").split(\",\")), data)\n",
    "data = np.array(list(data), dtype=np.float64)\n",
    "data"
   ]
  },
  {
   "cell_type": "code",
   "execution_count": null,
   "metadata": {},
   "outputs": [],
   "source": [
    "devices = bluetooth.discover_devices(lookup_names=True, duration=2)\n",
    "devices"
   ]
  },
  {
   "cell_type": "code",
   "execution_count": null,
   "metadata": {},
   "outputs": [],
   "source": [
    "sock = initBluetoothSocket(address=\"8C:CE:4E:8A:91:0A\")"
   ]
  },
  {
   "cell_type": "code",
   "execution_count": null,
   "metadata": {},
   "outputs": [],
   "source": [
    "time, roll, pitch, yaw = getSocketData(sock)"
   ]
  },
  {
   "cell_type": "code",
   "execution_count": null,
   "metadata": {},
   "outputs": [],
   "source": [
    "sp1 = 313\n",
    "sp2 = 312\n",
    "sp3 = 311\n",
    "\n",
    "fig = plt.figure(figsize=(12,7))\n",
    "# initialize subplot1\n",
    "ax1 = fig.add_subplot(sp1)\n",
    "ax1.plot(time, roll)\n",
    "ax2 = fig.add_subplot(sp2)\n",
    "ax2.plot(time, pitch)\n",
    "ax3 = fig.add_subplot(sp3)\n",
    "ax3.plot(time, yaw)"
   ]
  },
  {
   "cell_type": "code",
   "execution_count": null,
   "metadata": {},
   "outputs": [],
   "source": [
    "sock.send(\"Hello\")"
   ]
  },
  {
   "cell_type": "markdown",
   "metadata": {},
   "source": [
    "# Motion Test"
   ]
  },
  {
   "cell_type": "code",
   "execution_count": null,
   "metadata": {},
   "outputs": [],
   "source": [
    "from mpl_toolkits.mplot3d import Axes3D\n",
    "import numpy as np\n",
    "from matplotlib import cm\n",
    "import matplotlib.pyplot as plt\n",
    "from scipy.spatial import Delaunay\n",
    " \n",
    "def plot_basic_object(points):\n",
    "    \"\"\"Plots a basic object, assuming its convex and not too complex\"\"\"\n",
    "    tri = Delaunay(points).convex_hull\n",
    "    fig = plt.figure(figsize=(8, 8))\n",
    "    ax = fig.add_subplot(111, projection='3d')\n",
    "    S = ax.plot_trisurf(points[:,0], points[:,1], points[:,2],\n",
    "                        triangles=tri,\n",
    "                        shade=True, cmap=cm.Blues,lw=0.5)\n",
    "    ax.set_xlim3d(-5, 5)\n",
    "    ax.set_ylim3d(-5, 5)\n",
    "    ax.set_zlim3d(-5, 5)\n",
    "     \n",
    "def create_cube(side_length=5):\n",
    "    return create_cuboid(side_length, side_length, side_length)  \n",
    "\n",
    "def create_cuboid(dx, dy, dz):\n",
    "    \"\"\"Creates a cube starting from the given bottom-lower point (lowest x, y, z values)\"\"\"\n",
    "    bottom_lower = np.array([-dx/2, -dy/2, -dz/2])\n",
    "    points = np.vstack([\n",
    "        bottom_lower,\n",
    "        bottom_lower + [0, dy, 0],\n",
    "        bottom_lower + [dx, dy, 0],\n",
    "        bottom_lower + [dx, 0, 0],\n",
    "        bottom_lower + [0, 0, dz],\n",
    "        bottom_lower + [0, dy, dz],\n",
    "        bottom_lower + [dx, dy, dz],\n",
    "        bottom_lower + [dx, 0, dz],\n",
    "        bottom_lower,\n",
    "    ])\n",
    "    return points\n",
    " \n",
    " \n",
    "cube_1 = create_cube(side_length=2)\n",
    "amount = np.array([3, -3, 0])\n",
    "plot_basic_object(cube_1)\n",
    "\n",
    "translated_cube = amount + cube_1\n",
    "  \n",
    "plot_basic_object(translated_cube)\n",
    "plt.show()"
   ]
  },
  {
   "cell_type": "code",
   "execution_count": null,
   "metadata": {},
   "outputs": [],
   "source": [
    "from __future__ import division\n",
    "from matplotlib import cm\n",
    "from mpl_toolkits.mplot3d import Axes3D\n",
    "import matplotlib.pyplot as plt\n",
    "import mpl_toolkits.mplot3d.axes3d as p3\n",
    "import matplotlib.animation as animation\n",
    "import numpy as np\n",
    "\n",
    "from matplotlib import patches\n",
    "from scipy.spatial.transform import Rotation as R\n",
    "\n",
    "left_cube = cube_1 + np.array([-0.1, 0, 0])\n",
    "right_cube = cube_1 + np.array([0.1, 0, 0])\n",
    "\n",
    "fig = plt.figure()\n",
    "ax = fig.add_subplot(111, projection='3d')\n",
    "ax.set_xlim3d(left=-0.2, right=0.2)\n",
    "ax.set_ylim3d(-0.1, 0.1)\n",
    "ax.set_zlim3d(-0.05, 0.2)\n",
    "\n",
    "left_cube_tri = Delaunay(left_cube).convex_hull\n",
    "plot = ax.plot_trisurf(left_cube[:,0], left_cube[:,1], left_cube[:,2],\n",
    "                       triangles=left_cube_tri, shade=True, cmap=cm.Blues, lw=0.5)\n",
    "right_cube_tri = Delaunay(right_cube).convex_hull\n",
    "plot = ax.plot_trisurf(right_cube[:,0], right_cube[:,1], right_cube[:,2],\n",
    "                       triangles=right_cube_tri, shade=True, cmap=cm.Blues, lw=0.5)\n",
    "\n",
    "thetaLin = np.deg2rad(np.linspace(0, 60, 100))\n",
    "\n",
    "cuboid = create_cuboid(0.05, 0.03, 0.03)\n",
    "\n",
    "def data_gen(framenumber, thetaLin, plot):\n",
    "    ax.clear()\n",
    "    ax.set_xlim3d(left=-0.2, right=0.2)\n",
    "    ax.set_ylim3d(-0.05, 0.05)\n",
    "    ax.set_zlim3d(-0.05, 0.2)\n",
    "    ax.set_aspect('equal')\n",
    "\n",
    "    ax.xaxis.set_ticklabels([])\n",
    "    ax.yaxis.set_ticklabels([])\n",
    "    ax.zaxis.set_ticklabels([])\n",
    "\n",
    "    for line in ax.xaxis.get_ticklines():\n",
    "        line.set_visible(False)\n",
    "    for line in ax.yaxis.get_ticklines():\n",
    "        line.set_visible(False)\n",
    "    for line in ax.zaxis.get_ticklines():\n",
    "        line.set_visible(False)\n",
    "\n",
    "    theta = thetaLin[framenumber]\n",
    "\n",
    "    left_cube = cuboid + np.array([-0.1*np.cos(theta), 0.1*np.sin(theta), 0])\n",
    "    # right_cube = cuboid + np.array([0.1*np.cos(theta), 0.1*np.sin(theta), 0])\n",
    "    right_cube = cuboid + np.array([0.15, 0, 0])\n",
    "\n",
    "    left_r = R.from_rotvec([0, theta, 0])\n",
    "    # right_r = R.from_rotvec([0, -theta, 0])\n",
    "    left_cube = left_r.apply(left_cube)\n",
    "    # right_cube = right_r.apply(right_cube)\n",
    "\n",
    "    left_cube_tri = Delaunay(left_cube).convex_hull\n",
    "    plot = ax.plot_trisurf(left_cube[:,0], left_cube[:,1], left_cube[:,2],\n",
    "                    triangles=left_cube_tri, shade=True, cmap=cm.Blues, lw=0.5)\n",
    "    right_cube_tri = Delaunay(right_cube).convex_hull\n",
    "    plot = ax.plot_trisurf(right_cube[:,0], right_cube[:,1], right_cube[:,2],\n",
    "                    triangles=right_cube_tri, shade=True, cmap=cm.Blues, lw=0.5)\n",
    "    return plot,\n",
    "\n",
    "\n",
    "anim = animation.FuncAnimation(fig, data_gen, fargs=(thetaLin, plot),\n",
    "                              interval=30, blit=False)\n",
    "plt.draw()\n",
    "plt.show()\n",
    "anim.save(\"motion.mp4\", dpi=200, writer=\"ffmpeg\", fps=100)"
   ]
  },
  {
   "cell_type": "markdown",
   "metadata": {},
   "source": [
    "# Integration Test"
   ]
  },
  {
   "cell_type": "code",
   "execution_count": null,
   "metadata": {},
   "outputs": [],
   "source": [
    "np.concatenate([[[1,3,4],[1,2,4]], [[1,2,3,4],[1,2,1,2]]], axis=1)"
   ]
  },
  {
   "cell_type": "code",
   "execution_count": null,
   "metadata": {},
   "outputs": [],
   "source": [
    "ani_worker = AnimationWorker(address=\"8C:CE:4E:8A:91:0A\")\n",
    "ani_worker.start()"
   ]
  }
 ],
 "metadata": {
  "kernelspec": {
   "display_name": "Python 3 (ipykernel)",
   "language": "python",
   "name": "python3"
  },
  "language_info": {
   "codemirror_mode": {
    "name": "ipython",
    "version": 3
   },
   "file_extension": ".py",
   "mimetype": "text/x-python",
   "name": "python",
   "nbconvert_exporter": "python",
   "pygments_lexer": "ipython3",
   "version": "3.11.4"
  }
 },
 "nbformat": 4,
 "nbformat_minor": 2
}
